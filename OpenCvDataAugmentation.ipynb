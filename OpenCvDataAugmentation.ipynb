{
 "cells": [
  {
   "cell_type": "markdown",
   "metadata": {},
   "source": [
    "# Data Augmentation with OpenCv"
   ]
  },
  {
   "cell_type": "code",
   "execution_count": 2,
   "metadata": {},
   "outputs": [],
   "source": [
    "import cv2\n",
    "import os"
   ]
  },
  {
   "cell_type": "code",
   "execution_count": 3,
   "metadata": {},
   "outputs": [
    {
     "data": {
      "text/plain": [
       "'C:\\\\Users\\\\buse_\\\\Desktop\\\\Repos\\\\DataAugmentationTechniques'"
      ]
     },
     "execution_count": 3,
     "metadata": {},
     "output_type": "execute_result"
    }
   ],
   "source": [
    "os.getcwd()"
   ]
  },
  {
   "cell_type": "markdown",
   "metadata": {},
   "source": [
    "## Flipping"
   ]
  },
  {
   "cell_type": "markdown",
   "metadata": {},
   "source": [
    "cv2.flip() method is used to flip a 2D array. \n",
    "* If flip code is 0, it flips vertically\n",
    "* If flip code is 1, it flips horizontally\n",
    "* If flip code is -1, it flips both horizontally and vertically"
   ]
  },
  {
   "cell_type": "code",
   "execution_count": null,
   "metadata": {},
   "outputs": [],
   "source": [
    "img_edison = cv2.imread(\"C:\\\\Users\\\\buse_\\\\Desktop\\\\Repos\\\\DataAugmentationTechniques\\\\img\\\\edison\\\\edison.jpg\")\n",
    "\n",
    "x = cv2.flip(img_edison, 0)\n",
    "y = cv2.flip(img_edison, 1)\n",
    "xy = cv2.flip(img_edison, -1)\n",
    "\n",
    "cv2.imshow('X axis',x)\n",
    "cv2.imshow('Y axis',y)\n",
    "cv2.imshow('XY axis',xy)\n",
    "cv2.waitKey()"
   ]
  },
  {
   "cell_type": "markdown",
   "metadata": {},
   "source": [
    "<img src=\"img/flipping.jpg\">"
   ]
  },
  {
   "cell_type": "markdown",
   "metadata": {},
   "source": [
    "## Rotation"
   ]
  },
  {
   "cell_type": "markdown",
   "metadata": {},
   "source": [
    "cv2.rotate() method is used to rotate a 2D array in multiples of 90 degrees."
   ]
  },
  {
   "cell_type": "code",
   "execution_count": null,
   "metadata": {},
   "outputs": [],
   "source": [
    "# Rotate 90 degree by clockwise\n",
    "image = cv2.rotate(img_edison, cv2.ROTATE_90_CLOCKWISE)\n",
    "cv2.imshow(\"90 Degree\", image)\n",
    "cv2.waitKey()"
   ]
  },
  {
   "cell_type": "markdown",
   "metadata": {},
   "source": [
    "<img src=\"img/90deg.png\">"
   ]
  },
  {
   "cell_type": "code",
   "execution_count": null,
   "metadata": {},
   "outputs": [],
   "source": [
    "# Rotate 180 degree by clockwise\n",
    "image = cv2.rotate(img_edison, cv2.ROTATE_180)\n",
    "cv2.imshow(\"180 Degree\", image)\n",
    "cv2.waitKey()"
   ]
  },
  {
   "cell_type": "markdown",
   "metadata": {},
   "source": [
    "<img src=\"img/180deg.png\">"
   ]
  },
  {
   "cell_type": "code",
   "execution_count": null,
   "metadata": {},
   "outputs": [],
   "source": [
    "# Rotate 270 degree by clockwise\n",
    "image = cv2.rotate(img_edison, cv2.ROTATE_90_COUNTERCLOCKWISE)\n",
    "cv2.imshow(\"img/270 Degree\", image)\n",
    "cv2.waitKey()"
   ]
  },
  {
   "cell_type": "markdown",
   "metadata": {},
   "source": [
    "<img src=\"img/270deg.png\">"
   ]
  },
  {
   "cell_type": "markdown",
   "metadata": {},
   "source": [
    "### Rotate at a certain angle"
   ]
  },
  {
   "cell_type": "code",
   "execution_count": null,
   "metadata": {},
   "outputs": [],
   "source": [
    "height, width = img_edison.shape[:2]\n",
    "rotation_matrix = cv2.getRotationMatrix2D((width/2,height/2), 30, .9)\n",
    "rotated_img = cv2.warpAffine(img_edison, rotation_matrix, (width,height))\n",
    "cv2.imshow(\"30 Degree\", rotated_img)\n",
    "cv2.waitKey()"
   ]
  },
  {
   "cell_type": "markdown",
   "metadata": {},
   "source": [
    "In the code above, firstly we take image's height and width values. After that, we create a rotation matrix with <strong>getRotationMatrix2D</strong> function. In this function: \n",
    "* first parameter is image's shape\n",
    "* second parameter is rotation angle which is 30 degree\n",
    "* third parameter is scale.\n",
    "\n",
    "We apply this rotation matrix to our picture using the warpAffine function."
   ]
  },
  {
   "cell_type": "markdown",
   "metadata": {},
   "source": [
    "<img src=\"img/30deg.png\">"
   ]
  },
  {
   "cell_type": "markdown",
   "metadata": {},
   "source": [
    "### Rotate at a certain angle with imutils library"
   ]
  },
  {
   "cell_type": "code",
   "execution_count": null,
   "metadata": {},
   "outputs": [],
   "source": [
    "#!pip install imutils"
   ]
  },
  {
   "cell_type": "markdown",
   "metadata": {},
   "source": [
    "imutils library provides us a easier way to rotate images"
   ]
  },
  {
   "cell_type": "code",
   "execution_count": null,
   "metadata": {},
   "outputs": [],
   "source": [
    "import imutils\n",
    "\n",
    "angle = 25\n",
    "rotated_img = imutils.rotate_bound(img_edison, angle)\n",
    "cv2.imshow(\"45 Degree\", rotated_img)\n",
    "cv2.waitKey()"
   ]
  },
  {
   "cell_type": "markdown",
   "metadata": {},
   "source": [
    "<img src=\"img/45deg.png\">"
   ]
  },
  {
   "cell_type": "markdown",
   "metadata": {},
   "source": [
    "## Resize Images"
   ]
  },
  {
   "cell_type": "code",
   "execution_count": null,
   "metadata": {},
   "outputs": [],
   "source": [
    "img_edison.shape"
   ]
  },
  {
   "cell_type": "markdown",
   "metadata": {},
   "source": [
    "We can use <strong>resize</strong> function for resizing images. \n",
    "* First parameter is image\n",
    "* Second parameter is the shape that we want"
   ]
  },
  {
   "cell_type": "code",
   "execution_count": null,
   "metadata": {},
   "outputs": [],
   "source": [
    "img_resize = cv2.resize(img_edison, (150,150))\n",
    "cv2.imshow(\"(150,150)\", img_resize)\n",
    "cv2.waitKey()"
   ]
  },
  {
   "cell_type": "markdown",
   "metadata": {},
   "source": [
    "<img src=\"img/resize.png\">"
   ]
  },
  {
   "cell_type": "markdown",
   "metadata": {},
   "source": [
    "## Increasing and Decreasing Brightness"
   ]
  },
  {
   "cell_type": "code",
   "execution_count": null,
   "metadata": {},
   "outputs": [],
   "source": [
    "import numpy as np\n",
    "\n",
    "bright = np.ones(img_edison.shape, dtype=\"uint8\") * 70\n",
    "img_bright = cv2.add(img_edison, bright)\n",
    "cv2.imshow(\"Bright\", img_bright)\n",
    "cv2.waitKey()"
   ]
  },
  {
   "cell_type": "markdown",
   "metadata": {},
   "source": [
    "In the code above, firstly we create a matrix with full of ones. Then with <strong>add</strong> function we aplly this matrix to image. We can adjust brigthness with the number which multiply by the matrix. If number is too high the picture will be more brigth."
   ]
  },
  {
   "cell_type": "markdown",
   "metadata": {},
   "source": [
    "<img src=\"img/br.png\">"
   ]
  },
  {
   "cell_type": "code",
   "execution_count": null,
   "metadata": {},
   "outputs": [],
   "source": [
    "bright = np.ones(img_edison.shape, dtype=\"uint8\") * 70\n",
    "img_bright = cv2.subtract(img_edison, bright)\n",
    "cv2.imshow(\"Less Bright\", img_bright)\n",
    "cv2.waitKey()"
   ]
  },
  {
   "cell_type": "markdown",
   "metadata": {},
   "source": [
    "The only difference between the code above and the one above is if we want to decrease brigthness, we use <strong>substract</strong> function instead of <strong>add</strong> function"
   ]
  },
  {
   "cell_type": "markdown",
   "metadata": {},
   "source": [
    "<img src=\"img/dark.png\">"
   ]
  },
  {
   "cell_type": "markdown",
   "metadata": {},
   "source": [
    "## Make Border"
   ]
  },
  {
   "cell_type": "markdown",
   "metadata": {},
   "source": [
    "We add a border around the image. We can use this property with rotation and flipping for data augmentation. With 20,30,20,10 we define borders. cv2.BORDER_REFLECT parameter reflects image to the borders"
   ]
  },
  {
   "cell_type": "code",
   "execution_count": null,
   "metadata": {},
   "outputs": [],
   "source": [
    "img_border = cv2.copyMakeBorder(img_edison, 20,30,20,10, cv2.BORDER_REFLECT)\n",
    "cv2.imshow(\"Border\", img_border)\n",
    "cv2.waitKey()"
   ]
  },
  {
   "cell_type": "markdown",
   "metadata": {},
   "source": [
    "<img src=\"img/border.png\">"
   ]
  },
  {
   "cell_type": "markdown",
   "metadata": {},
   "source": [
    "If we use cv2.BORDER_CONSTANT, we create black border."
   ]
  },
  {
   "cell_type": "code",
   "execution_count": null,
   "metadata": {},
   "outputs": [],
   "source": [
    "img_border = cv2.copyMakeBorder(img_edison, 20,30,20,10, cv2.BORDER_CONSTANT)\n",
    "cv2.imshow(\"Border\", img_border)\n",
    "cv2.waitKey()"
   ]
  },
  {
   "cell_type": "markdown",
   "metadata": {},
   "source": [
    "<img src=\"img/border2.png\">"
   ]
  },
  {
   "cell_type": "code",
   "execution_count": null,
   "metadata": {},
   "outputs": [],
   "source": []
  }
 ],
 "metadata": {
  "kernelspec": {
   "display_name": "Python 3",
   "language": "python",
   "name": "python3"
  },
  "language_info": {
   "codemirror_mode": {
    "name": "ipython",
    "version": 3
   },
   "file_extension": ".py",
   "mimetype": "text/x-python",
   "name": "python",
   "nbconvert_exporter": "python",
   "pygments_lexer": "ipython3",
   "version": "3.8.5"
  }
 },
 "nbformat": 4,
 "nbformat_minor": 4
}
